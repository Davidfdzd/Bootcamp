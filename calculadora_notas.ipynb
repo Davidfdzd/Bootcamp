{
 "cells": [
  {
   "cell_type": "code",
   "execution_count": 28,
   "id": "c97a1ef1-2f95-4270-b009-a588468e3780",
   "metadata": {},
   "outputs": [],
   "source": [
    "puntuaciones = [85, 90, 76, 92, 88]"
   ]
  },
  {
   "cell_type": "code",
   "execution_count": 42,
   "id": "c111902f-dfc8-4438-93e7-77772d0a09b5",
   "metadata": {},
   "outputs": [],
   "source": [
    "def calcular_promedio_puntuaciones(puntuaciones):\n",
    "    suma = 0\n",
    "    for i in puntuaciones:\n",
    "        suma += i\n",
    "    promedio = suma/len(puntuaciones)\n",
    "    return(promedio)\n",
    "\n",
    "def calcular_puntuacion_maxima(puntuaciones):\n",
    "    Max_punt = puntuaciones[0]\n",
    "    for i in puntuaciones:\n",
    "        if Max_punt < i:\n",
    "            Max_punt = i\n",
    "    return Max_punt\n",
    "\n",
    "def calcular_total_puntuaciones(puntuaciones):\n",
    "    suma = 0\n",
    "    for i in puntuaciones:\n",
    "        suma += i\n",
    "    return suma"
   ]
  },
  {
   "cell_type": "code",
   "execution_count": 44,
   "id": "13dde0be-b22b-42ac-9ca6-7e99c9230a3f",
   "metadata": {},
   "outputs": [
    {
     "name": "stdout",
     "output_type": "stream",
     "text": [
      "Promedio de puntuaciones: 86.2\n",
      "Puntuación máxima: 92\n",
      "Total de puntuaciones: 431\n"
     ]
    }
   ],
   "source": [
    "promedio = calcular_promedio_puntuaciones(puntuaciones)\n",
    "maxima = calcular_puntuacion_maxima(puntuaciones)\n",
    "total = calcular_total_puntuaciones(puntuaciones)\n",
    "\n",
    "print(f\"Promedio de puntuaciones: {promedio}\")\n",
    "print(f\"Puntuación máxima: {maxima}\")\n",
    "print(f\"Total de puntuaciones: {total}\")"
   ]
  }
 ],
 "metadata": {
  "kernelspec": {
   "display_name": "Python [conda env:base] *",
   "language": "python",
   "name": "conda-base-py"
  },
  "language_info": {
   "codemirror_mode": {
    "name": "ipython",
    "version": 3
   },
   "file_extension": ".py",
   "mimetype": "text/x-python",
   "name": "python",
   "nbconvert_exporter": "python",
   "pygments_lexer": "ipython3",
   "version": "3.12.7"
  }
 },
 "nbformat": 4,
 "nbformat_minor": 5
}
